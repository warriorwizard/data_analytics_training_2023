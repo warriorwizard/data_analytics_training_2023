{
 "cells": [
  {
   "attachments": {},
   "cell_type": "markdown",
   "metadata": {},
   "source": [
    "# Numpy getting started\n"
   ]
  },
  {
   "cell_type": "code",
   "execution_count": 4,
   "metadata": {},
   "outputs": [
    {
     "name": "stdout",
     "output_type": "stream",
     "text": [
      "1.23.5\n"
     ]
    }
   ],
   "source": [
    "# !pip install numpy\n",
    "print(np.__version__)"
   ]
  },
  {
   "cell_type": "code",
   "execution_count": 3,
   "metadata": {},
   "outputs": [
    {
     "name": "stdout",
     "output_type": "stream",
     "text": [
      "[1 2 3 4 5]\n"
     ]
    }
   ],
   "source": [
    "import numpy as np\n",
    "arr=np.array([1,2,3,4,5])\n",
    "print(arr)"
   ]
  },
  {
   "cell_type": "code",
   "execution_count": 6,
   "metadata": {},
   "outputs": [
    {
     "data": {
      "text/plain": [
       "array([[ 0,  1,  2,  3,  4],\n",
       "       [ 5,  6,  7,  8,  9],\n",
       "       [10, 11, 12, 13, 14]])"
      ]
     },
     "execution_count": 6,
     "metadata": {},
     "output_type": "execute_result"
    }
   ],
   "source": [
    "arr=np.arange(15).reshape(3,5)\n",
    "arr"
   ]
  },
  {
   "cell_type": "code",
   "execution_count": 10,
   "metadata": {},
   "outputs": [
    {
     "name": "stdout",
     "output_type": "stream",
     "text": [
      "(3, 5)\n",
      "2\n",
      "int32\n",
      "4\n",
      "15\n",
      "<class 'numpy.ndarray'>\n"
     ]
    }
   ],
   "source": [
    "print(arr.shape)\n",
    "print(arr.ndim)\n",
    "print(arr.dtype.name)\n",
    "print(arr.itemsize)\n",
    "print(arr.size)\n",
    "print(type(arr))"
   ]
  },
  {
   "attachments": {},
   "cell_type": "markdown",
   "metadata": {},
   "source": [
    "### Linspace"
   ]
  },
  {
   "cell_type": "code",
   "execution_count": 13,
   "metadata": {},
   "outputs": [
    {
     "data": {
      "text/plain": [
       "array([[[ 0.        ,  0.34482759,  0.68965517],\n",
       "        [ 1.03448276,  1.37931034,  1.72413793],\n",
       "        [ 2.06896552,  2.4137931 ,  2.75862069],\n",
       "        [ 3.10344828,  3.44827586,  3.79310345],\n",
       "        [ 4.13793103,  4.48275862,  4.82758621]],\n",
       "\n",
       "       [[ 5.17241379,  5.51724138,  5.86206897],\n",
       "        [ 6.20689655,  6.55172414,  6.89655172],\n",
       "        [ 7.24137931,  7.5862069 ,  7.93103448],\n",
       "        [ 8.27586207,  8.62068966,  8.96551724],\n",
       "        [ 9.31034483,  9.65517241, 10.        ]]])"
      ]
     },
     "execution_count": 13,
     "metadata": {},
     "output_type": "execute_result"
    }
   ],
   "source": [
    "#linspace is used to create an array with evenly spaced elements\n",
    "np.linspace(0,10,30).reshape(2,5,3)"
   ]
  },
  {
   "cell_type": "markdown",
   "metadata": {},
   "source": [
    "### np complex numbers"
   ]
  },
  {
   "cell_type": "code",
   "execution_count": 14,
   "metadata": {},
   "outputs": [
    {
     "data": {
      "text/plain": [
       "array([1.+0.j, 2.+0.j, 3.+0.j, 4.+0.j, 5.+0.j])"
      ]
     },
     "execution_count": 14,
     "metadata": {},
     "output_type": "execute_result"
    }
   ],
   "source": [
    "\n",
    "np.array([1,2,3,4,5],dtype=complex)"
   ]
  },
  {
   "cell_type": "code",
   "execution_count": 15,
   "metadata": {},
   "outputs": [
    {
     "data": {
      "text/plain": [
       "array([[[0, 0, 0, 0],\n",
       "        [0, 0, 0, 0],\n",
       "        [0, 0, 0, 0]],\n",
       "\n",
       "       [[0, 0, 0, 0],\n",
       "        [0, 0, 0, 0],\n",
       "        [0, 0, 0, 0]]], dtype=int64)"
      ]
     },
     "execution_count": 15,
     "metadata": {},
     "output_type": "execute_result"
    }
   ],
   "source": [
    "np.zeros((2,3,4),dtype=np.int64)"
   ]
  },
  {
   "cell_type": "markdown",
   "metadata": {},
   "source": [
    "### various dtype of numpy are\n",
    "### bool_, int_, intc, intp, int8, int16, int32, int64, uint8, uint16, uint32, uint64, float_, float16, float32, float64, complex_, complex64, complex128"
   ]
  },
  {
   "attachments": {},
   "cell_type": "markdown",
   "metadata": {},
   "source": [
    "## generating random array"
   ]
  },
  {
   "cell_type": "code",
   "execution_count": 17,
   "metadata": {},
   "outputs": [],
   "source": [
    "a=np.ones(3,dtype=np.int32)"
   ]
  },
  {
   "cell_type": "code",
   "execution_count": 28,
   "metadata": {},
   "outputs": [
    {
     "name": "stdout",
     "output_type": "stream",
     "text": [
      "[ 2 22 24  7 25  7  5 24 25  8 21 32]\n"
     ]
    }
   ],
   "source": [
    "ran_arr=np.random.rand(2,3)\n",
    "ran_arr=np.random.randint(2,34,12)\n",
    "ran_arr\n",
    "print(ran_arr)"
   ]
  },
  {
   "cell_type": "code",
   "execution_count": 30,
   "metadata": {},
   "outputs": [
    {
     "data": {
      "text/plain": [
       "11"
      ]
     },
     "execution_count": 30,
     "metadata": {},
     "output_type": "execute_result"
    }
   ],
   "source": [
    "ran_arr.max()\n",
    "ran_arr.min()\n",
    "ran_arr.sum()\n",
    "\n",
    "#ran_arr argmax is used to find the index of the maximum value\n",
    "ran_arr.argmax()\n",
    "\n",
    "#ran_arr argmin is used to find the index of the minimum value\n",
    "ran_arr.argmin()"
   ]
  },
  {
   "cell_type": "code",
   "execution_count": 34,
   "metadata": {},
   "outputs": [
    {
     "name": "stdout",
     "output_type": "stream",
     "text": [
      "[[[0.58249271 0.96444058 0.00660863 0.82848417 0.66831128]\n",
      "  [0.68104331 0.11770565 0.79622654 0.73659188 0.98322358]\n",
      "  [0.12273261 0.73698039 0.37860561 0.01593674 0.3816661 ]]\n",
      "\n",
      " [[0.12688721 0.9971921  0.59778357 0.17978124 0.94006256]\n",
      "  [0.39454582 0.92159314 0.546407   0.17255762 0.62582758]\n",
      "  [0.71172632 0.69025642 0.15168614 0.90652585 0.87194489]]\n",
      "\n",
      " [[0.36552766 0.5759716  0.78300841 0.66919585 0.57250385]\n",
      "  [0.55322368 0.08112182 0.15829419 0.8711385  0.06273406]\n",
      "  [0.55568077 0.57049432 0.20514801 0.27497702 0.71882539]]]\n"
     ]
    }
   ],
   "source": [
    "a=np.random.rand(3,3,5)\n",
    "print(a)"
   ]
  },
  {
   "cell_type": "markdown",
   "metadata": {},
   "source": [
    "# indexing slicing iteration"
   ]
  },
  {
   "cell_type": "code",
   "execution_count": 37,
   "metadata": {},
   "outputs": [
    {
     "name": "stdout",
     "output_type": "stream",
     "text": [
      "[[ 0  1  2  3  4  5]\n",
      " [ 6  7  8  9 10 11]\n",
      " [12 13 14 15 16 17]\n",
      " [18 19 20 21 22 23]\n",
      " [24 25 26 27 28 29]]\n"
     ]
    }
   ],
   "source": [
    "a=np.arange(0,30).reshape(5,6)\n",
    "print(a)"
   ]
  },
  {
   "cell_type": "code",
   "execution_count": null,
   "metadata": {},
   "outputs": [],
   "source": []
  }
 ],
 "metadata": {
  "kernelspec": {
   "display_name": "Python 3",
   "language": "python",
   "name": "python3"
  },
  "language_info": {
   "codemirror_mode": {
    "name": "ipython",
    "version": 3
   },
   "file_extension": ".py",
   "mimetype": "text/x-python",
   "name": "python",
   "nbconvert_exporter": "python",
   "pygments_lexer": "ipython3",
   "version": "3.9.6"
  },
  "orig_nbformat": 4,
  "vscode": {
   "interpreter": {
    "hash": "fbfdf8afede67ea1f1a162987a6cd56fe099c2d1e281f846aa80c67b30e896a8"
   }
  }
 },
 "nbformat": 4,
 "nbformat_minor": 2
}
